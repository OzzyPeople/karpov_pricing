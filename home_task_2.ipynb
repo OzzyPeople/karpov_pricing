{
 "cells": [
  {
   "cell_type": "code",
   "execution_count": 198,
   "metadata": {},
   "outputs": [],
   "source": [
    "import pandas as pd\n",
    "import numpy as np"
   ]
  },
  {
   "cell_type": "markdown",
   "metadata": {},
   "source": [
    "Первый итоговый файл part1.csv должен содержать:\n",
    "\n",
    "id топ-10 самых дорогих квартир\n",
    "\n",
    "список индексов самых дорогих квартир за каждый месяц \n",
    "\n",
    "id топ-5 самых больших квартир \n",
    "\n",
    "количество строк с пропусками в life_sq\n",
    "\n",
    "два коэффициента корреляции Пирсона\n",
    "\n",
    "Каждый пункт в итоговом файле должен быть на новой строке. \n",
    "\n",
    "Если пункт содержит несколько значений, следует записать их через запятую."
   ]
  },
  {
   "cell_type": "code",
   "execution_count": 199,
   "metadata": {},
   "outputs": [],
   "source": [
    "# считаем данные в соответствующие датафреймы\n",
    "\n",
    "train_main_df = pd.read_csv('HW_train_main_data.csv')"
   ]
  },
  {
   "cell_type": "code",
   "execution_count": 200,
   "metadata": {},
   "outputs": [
    {
     "data": {
      "text/html": [
       "<div>\n",
       "<style scoped>\n",
       "    .dataframe tbody tr th:only-of-type {\n",
       "        vertical-align: middle;\n",
       "    }\n",
       "\n",
       "    .dataframe tbody tr th {\n",
       "        vertical-align: top;\n",
       "    }\n",
       "\n",
       "    .dataframe thead th {\n",
       "        text-align: right;\n",
       "    }\n",
       "</style>\n",
       "<table border=\"1\" class=\"dataframe\">\n",
       "  <thead>\n",
       "    <tr style=\"text-align: right;\">\n",
       "      <th></th>\n",
       "      <th>id</th>\n",
       "      <th>timestamp</th>\n",
       "      <th>full_sq</th>\n",
       "      <th>life_sq</th>\n",
       "      <th>floor</th>\n",
       "      <th>max_floor</th>\n",
       "      <th>material</th>\n",
       "      <th>build_year</th>\n",
       "      <th>num_room</th>\n",
       "      <th>kitch_sq</th>\n",
       "      <th>apartment condition</th>\n",
       "      <th>sub_area</th>\n",
       "      <th>price</th>\n",
       "    </tr>\n",
       "  </thead>\n",
       "  <tbody>\n",
       "    <tr>\n",
       "      <th>0</th>\n",
       "      <td>30392</td>\n",
       "      <td>2014-12-30</td>\n",
       "      <td>60</td>\n",
       "      <td>36.0</td>\n",
       "      <td>6.0</td>\n",
       "      <td>9.0</td>\n",
       "      <td>1.0</td>\n",
       "      <td>1974.0</td>\n",
       "      <td>3.0</td>\n",
       "      <td>5.0</td>\n",
       "      <td>3.0</td>\n",
       "      <td>9</td>\n",
       "      <td>9711800.0</td>\n",
       "    </tr>\n",
       "    <tr>\n",
       "      <th>1</th>\n",
       "      <td>36540</td>\n",
       "      <td>2013-06-28</td>\n",
       "      <td>44</td>\n",
       "      <td>29.0</td>\n",
       "      <td>9.0</td>\n",
       "      <td>NaN</td>\n",
       "      <td>NaN</td>\n",
       "      <td>NaN</td>\n",
       "      <td>NaN</td>\n",
       "      <td>NaN</td>\n",
       "      <td>NaN</td>\n",
       "      <td>19</td>\n",
       "      <td>6643200.0</td>\n",
       "    </tr>\n",
       "    <tr>\n",
       "      <th>2</th>\n",
       "      <td>94669</td>\n",
       "      <td>2013-09-15</td>\n",
       "      <td>62</td>\n",
       "      <td>60.0</td>\n",
       "      <td>4.0</td>\n",
       "      <td>NaN</td>\n",
       "      <td>NaN</td>\n",
       "      <td>NaN</td>\n",
       "      <td>NaN</td>\n",
       "      <td>NaN</td>\n",
       "      <td>NaN</td>\n",
       "      <td>80</td>\n",
       "      <td>5698300.0</td>\n",
       "    </tr>\n",
       "    <tr>\n",
       "      <th>3</th>\n",
       "      <td>17531</td>\n",
       "      <td>2013-12-13</td>\n",
       "      <td>33</td>\n",
       "      <td>18.0</td>\n",
       "      <td>4.0</td>\n",
       "      <td>9.0</td>\n",
       "      <td>1.0</td>\n",
       "      <td>1970.0</td>\n",
       "      <td>1.0</td>\n",
       "      <td>6.0</td>\n",
       "      <td>2.0</td>\n",
       "      <td>15</td>\n",
       "      <td>5055000.0</td>\n",
       "    </tr>\n",
       "    <tr>\n",
       "      <th>4</th>\n",
       "      <td>32159</td>\n",
       "      <td>2014-02-13</td>\n",
       "      <td>37</td>\n",
       "      <td>14.0</td>\n",
       "      <td>1.0</td>\n",
       "      <td>17.0</td>\n",
       "      <td>1.0</td>\n",
       "      <td>1991.0</td>\n",
       "      <td>1.0</td>\n",
       "      <td>1.0</td>\n",
       "      <td>2.0</td>\n",
       "      <td>74</td>\n",
       "      <td>5425000.0</td>\n",
       "    </tr>\n",
       "  </tbody>\n",
       "</table>\n",
       "</div>"
      ],
      "text/plain": [
       "      id   timestamp  full_sq  life_sq  floor  max_floor  material  \\\n",
       "0  30392  2014-12-30       60     36.0    6.0        9.0       1.0   \n",
       "1  36540  2013-06-28       44     29.0    9.0        NaN       NaN   \n",
       "2  94669  2013-09-15       62     60.0    4.0        NaN       NaN   \n",
       "3  17531  2013-12-13       33     18.0    4.0        9.0       1.0   \n",
       "4  32159  2014-02-13       37     14.0    1.0       17.0       1.0   \n",
       "\n",
       "   build_year  num_room  kitch_sq  apartment condition  sub_area      price  \n",
       "0      1974.0       3.0       5.0                  3.0         9  9711800.0  \n",
       "1         NaN       NaN       NaN                  NaN        19  6643200.0  \n",
       "2         NaN       NaN       NaN                  NaN        80  5698300.0  \n",
       "3      1970.0       1.0       6.0                  2.0        15  5055000.0  \n",
       "4      1991.0       1.0       1.0                  2.0        74  5425000.0  "
      ]
     },
     "execution_count": 200,
     "metadata": {},
     "output_type": "execute_result"
    }
   ],
   "source": [
    "train_main_df.head()"
   ]
  },
  {
   "cell_type": "markdown",
   "metadata": {},
   "source": [
    "## 1. Найти id топ-10 самых дорогих квартир из датасета."
   ]
  },
  {
   "cell_type": "code",
   "execution_count": 201,
   "metadata": {},
   "outputs": [],
   "source": [
    "top_id_expen_df = train_main_df[['id', 'price']].sort_values(by='price', ascending=False).head(10)"
   ]
  },
  {
   "cell_type": "code",
   "execution_count": 202,
   "metadata": {},
   "outputs": [
    {
     "data": {
      "text/html": [
       "<div>\n",
       "<style scoped>\n",
       "    .dataframe tbody tr th:only-of-type {\n",
       "        vertical-align: middle;\n",
       "    }\n",
       "\n",
       "    .dataframe tbody tr th {\n",
       "        vertical-align: top;\n",
       "    }\n",
       "\n",
       "    .dataframe thead th {\n",
       "        text-align: right;\n",
       "    }\n",
       "</style>\n",
       "<table border=\"1\" class=\"dataframe\">\n",
       "  <thead>\n",
       "    <tr style=\"text-align: right;\">\n",
       "      <th></th>\n",
       "      <th>id</th>\n",
       "      <th>price</th>\n",
       "    </tr>\n",
       "  </thead>\n",
       "  <tbody>\n",
       "    <tr>\n",
       "      <th>18117</th>\n",
       "      <td>85073</td>\n",
       "      <td>112444400.0</td>\n",
       "    </tr>\n",
       "    <tr>\n",
       "      <th>27095</th>\n",
       "      <td>14154</td>\n",
       "      <td>95255100.0</td>\n",
       "    </tr>\n",
       "    <tr>\n",
       "      <th>5829</th>\n",
       "      <td>88100</td>\n",
       "      <td>94932200.0</td>\n",
       "    </tr>\n",
       "    <tr>\n",
       "      <th>26225</th>\n",
       "      <td>78059</td>\n",
       "      <td>87549200.0</td>\n",
       "    </tr>\n",
       "    <tr>\n",
       "      <th>15217</th>\n",
       "      <td>91175</td>\n",
       "      <td>81827500.0</td>\n",
       "    </tr>\n",
       "  </tbody>\n",
       "</table>\n",
       "</div>"
      ],
      "text/plain": [
       "          id        price\n",
       "18117  85073  112444400.0\n",
       "27095  14154   95255100.0\n",
       "5829   88100   94932200.0\n",
       "26225  78059   87549200.0\n",
       "15217  91175   81827500.0"
      ]
     },
     "execution_count": 202,
     "metadata": {},
     "output_type": "execute_result"
    }
   ],
   "source": [
    "top_id_expen_df.head()"
   ]
  },
  {
   "cell_type": "code",
   "execution_count": 203,
   "metadata": {},
   "outputs": [],
   "source": [
    "top_id_expen = [x for x in top_id_expen_df.id]"
   ]
  },
  {
   "cell_type": "code",
   "execution_count": 204,
   "metadata": {},
   "outputs": [
    {
     "data": {
      "text/plain": [
       "[85073, 14154, 88100, 78059, 91175, 45584, 95572, 63901, 92747, 40136]"
      ]
     },
     "execution_count": 204,
     "metadata": {},
     "output_type": "execute_result"
    }
   ],
   "source": [
    "top_id_expen"
   ]
  },
  {
   "cell_type": "markdown",
   "metadata": {},
   "source": [
    "## 2. Построить зависимость средней стоимости квартиры от года и месяца продаж. В результате необходимо получить график, где по оси oY расположена средняя стоимость квартиры, а по оси oX — временная отметка в виде сочетания месяца и года."
   ]
  },
  {
   "cell_type": "code",
   "execution_count": 205,
   "metadata": {},
   "outputs": [],
   "source": [
    "train_main_df['timestamp'] = pd.to_datetime(train_main_df['timestamp'])"
   ]
  },
  {
   "cell_type": "code",
   "execution_count": 206,
   "metadata": {},
   "outputs": [],
   "source": [
    "df = train_main_df[['timestamp', 'price']]"
   ]
  },
  {
   "cell_type": "code",
   "execution_count": 207,
   "metadata": {},
   "outputs": [],
   "source": [
    "df = df.set_index('timestamp').resample(\"M\").mean()"
   ]
  },
  {
   "cell_type": "code",
   "execution_count": 208,
   "metadata": {},
   "outputs": [],
   "source": [
    "# импортируем библиотеки для визуализаци данных\n",
    "\n",
    "import matplotlib.pyplot as plt\n",
    "import seaborn as sns\n",
    "color = sns.color_palette()\n",
    "\n",
    "%matplotlib inline"
   ]
  },
  {
   "cell_type": "code",
   "execution_count": 209,
   "metadata": {},
   "outputs": [
    {
     "data": {
      "image/png": "[encoded data removed]",
      "text/plain": [
       "<Figure size 1008x432 with 1 Axes>"
      ]
     },
     "metadata": {
      "needs_background": "light"
     },
     "output_type": "display_data"
    }
   ],
   "source": [
    "# нарисуем график зависимости средней цены от месяца и года \n",
    "\n",
    "plt.figure(figsize=(14, 6))\n",
    "plt.scatter(df.index, df.price)\n",
    "plt.xlabel('year_month', fontsize=12)\n",
    "plt.ylabel('price', fontsize=12)\n",
    "plt.show()"
   ]
  },
  {
   "cell_type": "markdown",
   "metadata": {},
   "source": [
    "## 3. для каждой пары месяц-год найти индексы (не id) самых дорогих квартир."
   ]
  },
  {
   "cell_type": "code",
   "execution_count": 210,
   "metadata": {},
   "outputs": [],
   "source": [
    "# get year\n",
    "train_main_df['year'] = train_main_df.timestamp.dt.year\n",
    "# get month of year\n",
    "train_main_df['month'] = train_main_df.timestamp.dt.month\n",
    "train_main_df['year_month'] = train_main_df['year'].astype(str) + '_' + train_main_df['month'].astype(str)"
   ]
  },
  {
   "cell_type": "code",
   "execution_count": 211,
   "metadata": {},
   "outputs": [],
   "source": [
    "df_ym = train_main_df.groupby(['year_month'])['price'].max().reset_index()"
   ]
  },
  {
   "cell_type": "code",
   "execution_count": 214,
   "metadata": {},
   "outputs": [],
   "source": [
    "expensive_month = []\n",
    "for i, k in zip(df_ym.year_month, df_ym.price):\n",
    "    for t in range(len(train_main_df)):\n",
    "        if (train_main_df['price'].iloc[t] == k) & (train_main_df['year_month'].iloc[t] == i):\n",
    "            expensive_month.append(t)\n",
    "        else:\n",
    "            pass"
   ]
  },
  {
   "cell_type": "code",
   "execution_count": 215,
   "metadata": {},
   "outputs": [
    {
     "data": {
      "text/plain": [
       "[28566,\n",
       " 24188,\n",
       " 27279,\n",
       " 22408,\n",
       " 20316,\n",
       " 16898,\n",
       " 28806,\n",
       " 7537,\n",
       " 27461,\n",
       " 8417,\n",
       " 26644,\n",
       " 18117,\n",
       " 10035,\n",
       " 26274,\n",
       " 26321,\n",
       " 9030,\n",
       " 15912,\n",
       " 10213,\n",
       " 8788,\n",
       " 20082,\n",
       " 3163,\n",
       " 26225,\n",
       " 3767,\n",
       " 27095,\n",
       " 14807,\n",
       " 24097,\n",
       " 20799,\n",
       " 20649,\n",
       " 6981,\n",
       " 25278,\n",
       " 13329,\n",
       " 2526,\n",
       " 1740,\n",
       " 7055,\n",
       " 12729,\n",
       " 5582,\n",
       " 15217,\n",
       " 18599,\n",
       " 5942,\n",
       " 28868,\n",
       " 9340,\n",
       " 14321,\n",
       " 5829,\n",
       " 6705,\n",
       " 7755,\n",
       " 12483,\n",
       " 2014]"
      ]
     },
     "execution_count": 215,
     "metadata": {},
     "output_type": "execute_result"
    }
   ],
   "source": [
    "expensive_month"
   ]
  },
  {
   "cell_type": "markdown",
   "metadata": {},
   "source": [
    "## 4. Построить boxplot для цены для пар месяц-год."
   ]
  },
  {
   "cell_type": "code",
   "execution_count": 216,
   "metadata": {},
   "outputs": [
    {
     "data": {
      "image/png": "[encoded data removed]",
      "text/plain": [
       "<Figure size 1152x576 with 1 Axes>"
      ]
     },
     "metadata": {
      "needs_background": "light"
     },
     "output_type": "display_data"
    }
   ],
   "source": [
    "plt.figure(figsize=(16, 8))\n",
    "sns.boxplot(x='year_month', y='price', data=train_main_df)\n",
    "plt.ylabel('price', fontsize=12)\n",
    "plt.xlabel('year_month', fontsize=12)\n",
    "plt.xticks(rotation='vertical')\n",
    "plt.show()"
   ]
  },
  {
   "cell_type": "markdown",
   "metadata": {},
   "source": [
    "## 5. Найти id топ-5 самых больших квартир."
   ]
  },
  {
   "cell_type": "code",
   "execution_count": 217,
   "metadata": {},
   "outputs": [],
   "source": [
    "df_top_id_large_df = train_main_df[['id','full_sq']].sort_values(by='full_sq', ascending=False).head(5)"
   ]
  },
  {
   "cell_type": "code",
   "execution_count": 218,
   "metadata": {},
   "outputs": [],
   "source": [
    "df_top_id_large = [x for x in df_top_id_large_df.id]"
   ]
  },
  {
   "cell_type": "markdown",
   "metadata": {},
   "source": [
    "## 6. Пропуски в life_sq"
   ]
  },
  {
   "cell_type": "markdown",
   "metadata": {},
   "source": [
    "Посчитать количество пропусков в life_sq.  \n",
    "Заполнить пропуски в life_sq предложенным вами способом. "
   ]
  },
  {
   "cell_type": "code",
   "execution_count": 176,
   "metadata": {},
   "outputs": [
    {
     "data": {
      "text/plain": [
       "6065"
      ]
     },
     "execution_count": 176,
     "metadata": {},
     "output_type": "execute_result"
    }
   ],
   "source": [
    "life_sq_null  = train_main_df.life_sq.isnull().sum()\n",
    "life_sq_null "
   ]
  },
  {
   "cell_type": "code",
   "execution_count": 177,
   "metadata": {},
   "outputs": [],
   "source": [
    "# оценим интервалы распределения по жилой площади "
   ]
  },
  {
   "cell_type": "code",
   "execution_count": 178,
   "metadata": {},
   "outputs": [
    {
     "data": {
      "text/plain": [
       "<matplotlib.axes._subplots.AxesSubplot at 0x1f7226b1888>"
      ]
     },
     "execution_count": 178,
     "metadata": {},
     "output_type": "execute_result"
    },
    {
     "data": {
      "image/png": "[encoded data removed]",
      "text/plain": [
       "<Figure size 1152x432 with 1 Axes>"
      ]
     },
     "metadata": {
      "needs_background": "light"
     },
     "output_type": "display_data"
    }
   ],
   "source": [
    "train_main_df.boxplot(column=['life_sq'], figsize= (16, 6))"
   ]
  },
  {
   "cell_type": "code",
   "execution_count": 179,
   "metadata": {},
   "outputs": [],
   "source": [
    "# возьмем среднее значение площади в пределах 200 км м "
   ]
  },
  {
   "cell_type": "code",
   "execution_count": 180,
   "metadata": {},
   "outputs": [],
   "source": [
    "mean_lf = train_main_df['life_sq'].loc[train_main_df['life_sq']<200].mean()"
   ]
  },
  {
   "cell_type": "code",
   "execution_count": 181,
   "metadata": {},
   "outputs": [],
   "source": [
    "train_main_df['life_sq'] = train_main_df['life_sq'].fillna(value = mean_lf)"
   ]
  },
  {
   "cell_type": "code",
   "execution_count": 182,
   "metadata": {},
   "outputs": [
    {
     "data": {
      "text/plain": [
       "id                         0\n",
       "timestamp                  0\n",
       "full_sq                    0\n",
       "life_sq                    0\n",
       "floor                    157\n",
       "max_floor               9113\n",
       "material                9113\n",
       "build_year             12941\n",
       "num_room                9113\n",
       "kitch_sq                9113\n",
       "apartment condition    12912\n",
       "sub_area                   0\n",
       "price                      0\n",
       "year                       0\n",
       "month                      0\n",
       "year_month                 0\n",
       "dtype: int64"
      ]
     },
     "execution_count": 182,
     "metadata": {},
     "output_type": "execute_result"
    }
   ],
   "source": [
    "train_main_df.isnull().sum()"
   ]
  },
  {
   "cell_type": "markdown",
   "metadata": {},
   "source": [
    "## 7. Сохранить коэффициенты корреляции Пирсона между (price, full_sq) и (price, life_sq без пропусков). "
   ]
  },
  {
   "cell_type": "code",
   "execution_count": 219,
   "metadata": {},
   "outputs": [],
   "source": [
    "correlation_p_full_sq = train_main_df.price.corr(train_main_df.full_sq)"
   ]
  },
  {
   "cell_type": "code",
   "execution_count": 220,
   "metadata": {},
   "outputs": [
    {
     "data": {
      "text/plain": [
       "0.33711308742057905"
      ]
     },
     "execution_count": 220,
     "metadata": {},
     "output_type": "execute_result"
    }
   ],
   "source": [
    "correlation_p_full_sq "
   ]
  },
  {
   "cell_type": "code",
   "execution_count": 221,
   "metadata": {},
   "outputs": [],
   "source": [
    "correlation_p_life_sq = train_main_df.price.corr(train_main_df.life_sq)"
   ]
  },
  {
   "cell_type": "code",
   "execution_count": 223,
   "metadata": {},
   "outputs": [
    {
     "data": {
      "text/plain": [
       "0.4152906993761454"
      ]
     },
     "execution_count": 223,
     "metadata": {},
     "output_type": "execute_result"
    }
   ],
   "source": [
    "correlation_p_life_sq"
   ]
  },
  {
   "cell_type": "code",
   "execution_count": 272,
   "metadata": {},
   "outputs": [],
   "source": [
    "corr_list= [str(correlation_p_full_sq), str(correlation_p_life_sq)]"
   ]
  },
  {
   "cell_type": "code",
   "execution_count": 273,
   "metadata": {},
   "outputs": [
    {
     "data": {
      "text/plain": [
       "['0.33711308742057905', '0.4152906993761454']"
      ]
     },
     "execution_count": 273,
     "metadata": {},
     "output_type": "execute_result"
    }
   ],
   "source": [
    "corr_list"
   ]
  },
  {
   "cell_type": "code",
   "execution_count": 274,
   "metadata": {},
   "outputs": [],
   "source": [
    "## Записываем данные в csv "
   ]
  },
  {
   "cell_type": "code",
   "execution_count": 277,
   "metadata": {},
   "outputs": [],
   "source": [
    "with open('part1.csv', mode='w+', newline=\"\") as file:\n",
    "    t = csv.writer(file, delimiter=',', quoting=csv.QUOTE_NONE)\n",
    "    t.writerow(top_id_expen)\n",
    "    t.writerow(expensive_month)\n",
    "    t.writerow(df_top_id_large)\n",
    "    file.write(str(life_sq_null) + \"\\n\")\n",
    "    t.writerow(corr_list)"
   ]
  },
  {
   "cell_type": "code",
   "execution_count": null,
   "metadata": {},
   "outputs": [],
   "source": []
  }
 ],
 "metadata": {
  "kernelspec": {
   "display_name": "Python 3",
   "language": "python",
   "name": "python3"
  },
  "language_info": {
   "codemirror_mode": {
    "name": "ipython",
    "version": 3
   },
   "file_extension": ".py",
   "mimetype": "text/x-python",
   "name": "python",
   "nbconvert_exporter": "python",
   "pygments_lexer": "ipython3",
   "version": "3.7.6"
  }
 },
 "nbformat": 4,
 "nbformat_minor": 4
}
